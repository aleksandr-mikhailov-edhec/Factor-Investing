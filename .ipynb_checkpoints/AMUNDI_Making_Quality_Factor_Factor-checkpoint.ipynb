{
 "cells": [
  {
   "cell_type": "markdown",
   "id": "df3a7401-781d-4f0c-b548-8ac2a0f317d3",
   "metadata": {},
   "source": [
    "## Value Factor\n",
    "\n",
    "This notebook is used to create factor from stock universe with guidance of Amundi"
   ]
  },
  {
   "cell_type": "code",
   "execution_count": 1,
   "id": "bd981f62-f318-48a1-8906-2af525ed09d2",
   "metadata": {},
   "outputs": [],
   "source": [
    "import numpy as np\n",
    "import pandas as pd"
   ]
  },
  {
   "cell_type": "code",
   "execution_count": 16,
   "id": "31e37ee0-f416-45cf-a877-8b952d1fbfe7",
   "metadata": {},
   "outputs": [],
   "source": [
    "universe = pd.read_excel('data/UNIVERS Jan2025 Data.xlsx', header=1, index_col=1)"
   ]
  },
  {
   "cell_type": "code",
   "execution_count": 20,
   "id": "0ff3b41f-6445-4cb6-b474-81f49a5a9a9f",
   "metadata": {},
   "outputs": [
    {
     "data": {
      "text/plain": [
       "1.0000000000000002"
      ]
     },
     "execution_count": 20,
     "metadata": {},
     "output_type": "execute_result"
    }
   ],
   "source": [
    "universe.Weight.sum()"
   ]
  },
  {
   "cell_type": "markdown",
   "id": "6b92e140-f48b-4e55-97cf-fccc994e13b3",
   "metadata": {},
   "source": [
    "## Market factor"
   ]
  },
  {
   "cell_type": "code",
   "execution_count": null,
   "id": "e5e678ba-6bc9-48c1-9675-0768fd9552cb",
   "metadata": {},
   "outputs": [],
   "source": [
    "def market_factor():\n",
    "    "
   ]
  }
 ],
 "metadata": {
  "kernelspec": {
   "display_name": "Python 3 (ipykernel)",
   "language": "python",
   "name": "python3"
  },
  "language_info": {
   "codemirror_mode": {
    "name": "ipython",
    "version": 3
   },
   "file_extension": ".py",
   "mimetype": "text/x-python",
   "name": "python",
   "nbconvert_exporter": "python",
   "pygments_lexer": "ipython3",
   "version": "3.8.9"
  }
 },
 "nbformat": 4,
 "nbformat_minor": 5
}
